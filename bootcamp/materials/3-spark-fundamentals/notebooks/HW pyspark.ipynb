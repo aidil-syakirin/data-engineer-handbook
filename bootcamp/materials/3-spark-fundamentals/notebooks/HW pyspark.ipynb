{
 "cells": [
  {
   "cell_type": "code",
   "execution_count": 4,
   "id": "bdab0602-4971-4776-9df7-496dfbe120ee",
   "metadata": {},
   "outputs": [],
   "source": [
    "sc.stop()"
   ]
  },
  {
   "cell_type": "code",
   "execution_count": 5,
   "id": "3a27a879-83c9-41b1-96fe-a314beaf74c4",
   "metadata": {},
   "outputs": [
    {
     "data": {
      "text/html": [
       "\n",
       "            <div>\n",
       "                <p><b>SparkSession - in-memory</b></p>\n",
       "                \n",
       "        <div>\n",
       "            <p><b>SparkContext</b></p>\n",
       "\n",
       "            <p><a href=\"http://e68dbfc8961f:4043\">Spark UI</a></p>\n",
       "\n",
       "            <dl>\n",
       "              <dt>Version</dt>\n",
       "                <dd><code>v3.5.1</code></dd>\n",
       "              <dt>Master</dt>\n",
       "                <dd><code>local[*]</code></dd>\n",
       "              <dt>AppName</dt>\n",
       "                <dd><code>Jupyter</code></dd>\n",
       "            </dl>\n",
       "        </div>\n",
       "        \n",
       "            </div>\n",
       "        "
      ],
      "text/plain": [
       "<pyspark.sql.session.SparkSession at 0x7f1207705400>"
      ]
     },
     "execution_count": 5,
     "metadata": {},
     "output_type": "execute_result"
    }
   ],
   "source": [
    "from pyspark.sql import SparkSession\n",
    "from pyspark.sql.functions import expr, col \n",
    "from pyspark.sql import functions as F\n",
    "spark = SparkSession.builder.appName(\"Jupyter\").getOrCreate()\n",
    "spark.sql(\"SET spark.sql.catalog.my_catalog.uri=http://192.168.56.1:8181\")\n",
    "spark"
   ]
  },
  {
   "cell_type": "code",
   "execution_count": null,
   "id": "151ac4e1-2563-4765-9eeb-f9b099f0cb65",
   "metadata": {},
   "outputs": [
    {
     "name": "stderr",
     "output_type": "stream",
     "text": [
      "ERROR:root:KeyboardInterrupt while sending command.                 (0 + 2) / 2]\n",
      "Traceback (most recent call last):\n",
      "  File \"/opt/spark/python/lib/py4j-0.10.9.7-src.zip/py4j/java_gateway.py\", line 1038, in send_command\n",
      "    response = connection.send_command(command)\n",
      "  File \"/opt/spark/python/lib/py4j-0.10.9.7-src.zip/py4j/clientserver.py\", line 511, in send_command\n",
      "    answer = smart_decode(self.stream.readline()[:-1])\n",
      "  File \"/usr/local/lib/python3.9/socket.py\", line 704, in readinto\n",
      "    return self._sock.recv_into(b)\n",
      "KeyboardInterrupt\n"
     ]
    }
   ],
   "source": [
    "#read the csv file and convert them into df type\n",
    "\n",
    "df_md = spark.read.option(\"header\", \"true\").option(\"inferSchema\", \"true\").csv(\"/home/iceberg/data/match_details.csv\")\n",
    "df_m = spark.read.option(\"header\", \"true\").option(\"inferSchema\", \"true\").csv(\"/home/iceberg/data/matches.csv\")\n",
    "df_mmp = spark.read.option(\"header\", \"true\").option(\"inferSchema\", \"true\").csv(\"/home/iceberg/data/medals_matches_players.csv\")\n",
    "df_me = spark.read.option(\"header\", \"true\").option(\"inferSchema\", \"true\").csv(\"/home/iceberg/data/medals.csv\")\n",
    "df_mp = spark.read.option(\"header\", \"true\").option(\"inferSchema\", \"true\").csv(\"/home/iceberg/data/maps.csv\")\n",
    "\n",
    "# creating tables and populates them with the csv data\n",
    "\n",
    "# matches details\n",
    "\n",
    "spark.sql(\"\"\"DROP TABLE IF EXISTS bootcamp.match_details_bucketed\"\"\")\n",
    "\n",
    "matchDetailsDDL = \"\"\"\n",
    "CREATE TABLE IF NOT EXISTS bootcamp.match_details_bucketed (\n",
    "     match_id STRING,\n",
    "     player_gamertag STRING,\n",
    "     player_total_kills INTEGER,\n",
    "     player_total_deaths INTEGER\n",
    " )\n",
    " USING iceberg\n",
    " PARTITIONED BY (bucket(4, match_id));\n",
    "\"\"\"\n",
    "spark.sql(matchDetailsDDL)\n",
    "\n",
    "df_md.filter(\"match_id is not null and player_gamertag is not null\") \\\n",
    "    .select(\"match_id\", \"player_gamertag\", \"player_total_kills\", \"player_total_deaths\") \\\n",
    "     .write.mode(\"overwrite\") \\\n",
    "   .bucketBy(4, \"match_id\").saveAsTable(\"bootcamp.match_details_bucketed\")\n",
    "\n",
    "\n",
    "# matches table\n",
    "\n",
    "spark.sql(\"\"\"DROP TABLE IF EXISTS bootcamp.matches_bucketed\"\"\")\n",
    "                        \n",
    "matchesDDL = \"\"\"\n",
    "CREATE TABLE IF NOT EXISTS bootcamp.matches_bucketed (\n",
    "    match_id STRING,\n",
    "    mapid string,\n",
    "    is_team_game BOOLEAN,\n",
    "    playlist_id STRING,\n",
    "    completion_date TIMESTAMP\n",
    " )\n",
    " USING iceberg\n",
    " PARTITIONED BY (completion_date, bucket(4, match_id));\n",
    "\"\"\"\n",
    "\n",
    "spark.sql(matchesDDL)\n",
    "\n",
    "# Break large dataset into smaller chunks\n",
    "processed_data = df_m.select(\"match_id\", \"mapid\", \"is_team_game\", \"playlist_id\", \"completion_date\")\n",
    "\n",
    "# Process in batches if extremely large\n",
    "distinct_dates = processed_data.select(\"completion_date\").distinct().collect()\n",
    "\n",
    "#iterate through distinct dates and process each partition\n",
    "for date_row in distinct_dates:\n",
    "    specific_date = date_row[\"completion_date\"]\n",
    "    \n",
    "    (processed_data \\\n",
    "    .filter(F.col(\"completion_date\") == specific_date) \\\n",
    "    .write.mode(\"append\") \\\n",
    "    .partitionBy(\"completion_date\") \\\n",
    "    .bucketBy(4, \"match_id\")  \\\n",
    "    .saveAsTable(\"bootcamp.matches_bucketed\"))\n",
    "\n",
    "\n",
    "\n",
    "\n",
    "# medal_maps_players table\n",
    "\n",
    "spark.sql(\"\"\"DROP TABLE IF EXISTS bootcamp.me_ma_pl_bucketed\"\"\")\n",
    "memapldDDL = \"\"\"\n",
    "CREATE TABLE IF NOT EXISTS bootcamp.me_ma_pl_bucketed (\n",
    "    match_id STRING,\n",
    "    player_gamertag STRING,\n",
    "    medal_id bigint,\n",
    "    count integer\n",
    " )\n",
    " USING iceberg\n",
    " partitioned by (bucket(4,match_id));\n",
    "\"\"\"\n",
    "\n",
    "spark.sql(memapldDDL)\n",
    "\n",
    "df_mmp.filter(\"match_id is not null and player_gamertag is not null\") \\\n",
    "    .select(\"match_id\", \"player_gamertag\", \"medal_id\", \"count\") \\\n",
    "     .write.mode(\"overwrite\") \\\n",
    "     .bucketBy(4,\"match_id\") \\\n",
    "   .saveAsTable(\"bootcamp.me_ma_pl_bucketed\")\n",
    "\n",
    "# medals table\n",
    "\n",
    "spark.sql(\"\"\"DROP TABLE IF EXISTS bootcamp.medals_bucketed\"\"\")\n",
    "medalsDDL = \"\"\"\n",
    "CREATE TABLE IF NOT EXISTS bootcamp.medals_bucketed (\n",
    "    medal_id STRING,\n",
    "    name STRING\n",
    " )\n",
    " USING iceberg;\n",
    "\"\"\"\n",
    "\n",
    "spark.sql(medalsDDL)\n",
    "\n",
    "df_me.select(\"medal_id\", \"name\") \\\n",
    "     .write.mode(\"overwrite\") \\\n",
    "   .saveAsTable(\"bootcamp.medals_bucketed\")\n",
    "\n",
    "\n",
    "# maps table\n",
    "\n",
    "spark.sql(\"\"\"DROP TABLE IF EXISTS bootcamp.maps_bucketed\"\"\")\n",
    "mapsDDL = \"\"\"\n",
    "CREATE TABLE IF NOT EXISTS bootcamp.maps_bucketed (\n",
    "    mapid STRING,\n",
    "    name STRING\n",
    " )\n",
    " USING iceberg;\n",
    "\"\"\"\n",
    "\n",
    "spark.sql(mapsDDL)\n",
    "\n",
    "df_mp.filter(\"name is not null\") \\\n",
    "    .select(\"mapid\", \"name\") \\\n",
    "     .write.mode(\"overwrite\") \\\n",
    "   .saveAsTable(\"bootcamp.maps_bucketed\")"
   ]
  },
  {
   "cell_type": "code",
   "execution_count": 4,
   "id": "ae76bd9c-1184-4b25-9379-3dd83465b95c",
   "metadata": {},
   "outputs": [],
   "source": [
    "spark.conf.set(\"spark.sql.autoBroadcastJoinThreshold\", \"-1\")\n",
    "\n",
    "bucketed_matches = spark.table(\"bootcamp.matches_bucketed\").sort(\"match_id\")\n",
    "bucketed_match_details = spark.table(\"bootcamp.match_details_bucketed\").sort(\"match_id\")\n",
    "bucketed_medal_match_players = spark.table(\"bootcamp.me_ma_pl_bucketed\").sort(\"match_id\")\n",
    "bucketed_medals = spark.table(\"bootcamp.medals_bucketed\")\n",
    "bucketed_maps = spark.table(\"bootcamp.maps_bucketed\")\n",
    "\n",
    "bucketedJoin = bucketed_matches.alias(\"m\") \\\n",
    "   .join(bucketed_match_details.alias(\"md\"),F.col(\"m.match_id\") == F.col(\"md.match_id\")) \\\n",
    "   .join(bucketed_medal_match_players.alias(\"mmp\"), (F.col(\"md.match_id\") == F.col(\"mmp.match_id\")) & (F.col(\"md.player_gamertag\") == F.col(\"mmp.player_gamertag\")))  \\\n",
    "   .join(F.broadcast(bucketed_medals).alias(\"me\"), F.col(\"mmp.medal_id\") == F.col(\"me.medal_id\")) \\\n",
    "   .join(F.broadcast(bucketed_maps).alias(\"mp\"), F.col(\"m.mapid\") == F.col(\"mp.mapid\")) \\\n",
    "   .select(\n",
    "       F.col(\"m.*\"), \n",
    "       F.col(\"md.player_gamertag\"), \n",
    "       F.col(\"md.player_total_kills\"), \n",
    "       F.col(\"mmp.medal_id\"),\n",
    "       F.col(\"me.name\").alias (\"medal_name\"), \n",
    "       F.col(\"mmp.count\").alias(\"medal_count\"),\n",
    "       F.col(\"mp.name\").alias(\"map_name\")) \\\n",
    "# .explain()\n",
    "\n",
    "bucketedJoin.createOrReplaceTempView(\"bucketed_result\")\n",
    "# spark.sql(\"SELECT * FROM bucketed_result LIMIT 3\").show()"
   ]
  },
  {
   "cell_type": "code",
   "execution_count": 24,
   "id": "ec32b693-2037-42b4-bac8-6e4b8ec4055a",
   "metadata": {},
   "outputs": [
    {
     "name": "stderr",
     "output_type": "stream",
     "text": [
      "[Stage 987:============================>                            (4 + 4) / 8]\r"
     ]
    },
    {
     "name": "stdout",
     "output_type": "stream",
     "text": [
      "+--------------+-----------+\n",
      "|      map_name|total_games|\n",
      "+--------------+-----------+\n",
      "|Breakout Arena|       6738|\n",
      "|        Alpine|       5359|\n",
      "|       Glacier|       3402|\n",
      "|        Empire|       2233|\n",
      "|         Truth|       2061|\n",
      "|       The Rig|       2003|\n",
      "|         Plaza|       1912|\n",
      "|      Coliseum|       1910|\n",
      "|          Eden|       1769|\n",
      "|        Regret|       1761|\n",
      "|        Fathom|       1658|\n",
      "|    Overgrowth|       1049|\n",
      "|      Riptide |        915|\n",
      "|      Parallax|        725|\n",
      "+--------------+-----------+\n",
      "\n"
     ]
    },
    {
     "name": "stderr",
     "output_type": "stream",
     "text": [
      "                                                                                \r"
     ]
    }
   ],
   "source": [
    "# Which player averages the most kills per game?\n",
    "avgKillPerGame = bucketedJoin.distinct() \\\n",
    "     .groupBy(F.col(\"player_gamertag\")) \\\n",
    "     .agg(F.avg(F.col(\"player_total_kills\")).alias(\"avg_kills_per_match\")) \\\n",
    "     .orderBy((F.col(\"avg_kills_per_match\")).desc())\n",
    "\n",
    " # Which playlist gets played the most?\n",
    "playlistCount = bucketedJoin.groupBy(F.col(\"playlist_id\")) \\\n",
    "  .agg(F.countDistinct(F.col(\"match_id\")).alias(\"total_games_played\")) \\\n",
    "  .orderBy(F.countDistinct(F.col(\"match_id\")).desc())\n",
    "\n",
    "# Which map gets played the most?\n",
    "mapCount = bucketedJoin.filter(F.col(\"map_name\").isNotNull()) \\\n",
    "    .groupBy(F.col(\"map_name\"))  \\\n",
    "    .agg(F.countDistinct(F.col(\"match_id\")).alias(\"total_games\")) \\\n",
    "    .orderBy(F.col(\"total_games\").desc())\n",
    "\n",
    "# Which map do players get the most Killing Spree medals on?\n",
    "mapKSCount = bucketedJoin.distinct() \\\n",
    "        .filter(F.col(\"medal_name\") == \"Killing Spree\") \\\n",
    "        .groupBy(F.col(\"map_name\")) \\\n",
    "        .agg(F.sum(F.col(\"medal_count\")).alias(\"total_games\")) \\\n",
    "        .orderBy(F.col(\"total_games\").desc())\n",
    "\n",
    "\n",
    "mapKSCount.show()\n"
   ]
  },
  {
   "cell_type": "code",
   "execution_count": 4,
   "id": "2cb6307b-a42b-492e-b3b2-eb0043a9bfb0",
   "metadata": {},
   "outputs": [],
   "source": [
    "spark.catalog.clearCache()"
   ]
  },
  {
   "cell_type": "code",
   "execution_count": 5,
   "id": "a69b1935-ce03-4c8a-8589-8a52c0c33bfe",
   "metadata": {},
   "outputs": [
    {
     "data": {
      "text/plain": [
       "DataFrame[]"
      ]
     },
     "execution_count": 5,
     "metadata": {},
     "output_type": "execute_result"
    }
   ],
   "source": [
    "spark.sql(\"\"\"DROP TABLE IF EXISTS bootcamp.sorted_table_one\"\"\")\n",
    "DDL_one = \"\"\"\n",
    "CREATE TABLE IF NOT EXISTS bootcamp.sorted_table_one (\n",
    "    match_id STRING,\n",
    "    mapid string,\n",
    "    is_team_game boolean,\n",
    "    playlist_id string,\n",
    "    completion_date timestamp,\n",
    "    player_gamertag string, \n",
    "    player_total_kills integer,\n",
    "    medal_id bigint,\n",
    "    medal_name string,\n",
    "    medal_count integer,\n",
    "    map_name string\n",
    " )\n",
    " USING iceberg\n",
    " partitioned by (mapid);\n",
    "\"\"\"\n",
    "\n",
    "spark.sql(DDL_one)\n"
   ]
  },
  {
   "cell_type": "code",
   "execution_count": 6,
   "id": "d70ae7b7-79b3-4254-af0e-11884b7cba5b",
   "metadata": {},
   "outputs": [
    {
     "data": {
      "text/plain": [
       "DataFrame[]"
      ]
     },
     "execution_count": 6,
     "metadata": {},
     "output_type": "execute_result"
    }
   ],
   "source": [
    "spark.sql(\"\"\"DROP TABLE IF EXISTS bootcamp.sorted_table_two\"\"\")\n",
    "DDL_one = \"\"\"\n",
    "CREATE TABLE IF NOT EXISTS bootcamp.sorted_table_two (\n",
    "    match_id STRING,\n",
    "    mapid string,\n",
    "    is_team_game boolean,\n",
    "    playlist_id string,\n",
    "    completion_date timestamp,\n",
    "    player_gamertag string, \n",
    "    player_total_kills integer,\n",
    "    medal_id bigint,\n",
    "    medal_name string,\n",
    "    medal_count integer,\n",
    "    map_name string\n",
    " )\n",
    " USING iceberg\n",
    " partitioned by (playlist_id);\n",
    "\"\"\"\n",
    "\n",
    "spark.sql(DDL_one)"
   ]
  },
  {
   "cell_type": "code",
   "execution_count": 7,
   "id": "cd73dfae-dc7a-491f-ba6b-ba0481605cb4",
   "metadata": {},
   "outputs": [
    {
     "data": {
      "text/plain": [
       "DataFrame[]"
      ]
     },
     "execution_count": 7,
     "metadata": {},
     "output_type": "execute_result"
    }
   ],
   "source": [
    "spark.sql(\"\"\"DROP TABLE IF EXISTS bootcamp.unsorted_table\"\"\")\n",
    "DDL_one = \"\"\"\n",
    "CREATE TABLE IF NOT EXISTS bootcamp.unsorted_table (\n",
    "    match_id STRING,\n",
    "    mapid string,\n",
    "    is_team_game boolean,\n",
    "    playlist_id string,\n",
    "    completion_date timestamp,\n",
    "    player_gamertag string, \n",
    "    player_total_kills integer,\n",
    "    medal_id bigint,\n",
    "    medal_name string,\n",
    "    medal_count integer,\n",
    "    map_name string\n",
    " )\n",
    " USING iceberg;\n",
    "\"\"\"\n",
    "\n",
    "spark.sql(DDL_one)"
   ]
  },
  {
   "cell_type": "code",
   "execution_count": 8,
   "id": "120f2f22-7b85-4a87-b48b-acb69890f697",
   "metadata": {},
   "outputs": [
    {
     "name": "stderr",
     "output_type": "stream",
     "text": [
      "                                                                                \r"
     ]
    }
   ],
   "source": [
    "sorted_maps = bucketedJoin.repartition(10, F.col(\"completion_date\")) \\\n",
    "                .sortWithinPartitions(F.col(\"mapid\"))\n",
    "sorted_player = bucketedJoin.repartition(10, F.col(\"completion_date\")) \\\n",
    "                .sortWithinPartitions(F.col(\"player_gamertag\"))\n",
    "unsorted = bucketedJoin.repartition(10, F.col(\"completion_date\"))\n",
    "sorted_maps.write.mode(\"overwrite\").saveAsTable(\"bootcamp.sorted_table_one\")\n",
    "sorted_player.write.mode(\"overwrite\").saveAsTable(\"bootcamp.sorted_table_two\")\n",
    "unsorted.write.mode(\"overwrite\").saveAsTable(\"bootcamp.unsorted_table\")\n",
    "                                                \n"
   ]
  },
  {
   "cell_type": "code",
   "execution_count": 11,
   "id": "52a38593-e535-4456-9599-82b4aa52f99d",
   "metadata": {},
   "outputs": [
    {
     "data": {
      "text/html": [
       "<table>\n",
       "    <thead>\n",
       "        <tr>\n",
       "            <th>size</th>\n",
       "            <th>num_files</th>\n",
       "            <th>sorted_maps</th>\n",
       "        </tr>\n",
       "    </thead>\n",
       "    <tbody>\n",
       "        <tr>\n",
       "            <td>3211080</td>\n",
       "            <td>10</td>\n",
       "            <td>sorted_maps</td>\n",
       "        </tr>\n",
       "        <tr>\n",
       "            <td>3551849</td>\n",
       "            <td>10</td>\n",
       "            <td>sorted_playergamertag</td>\n",
       "        </tr>\n",
       "        <tr>\n",
       "            <td>3526641</td>\n",
       "            <td>10</td>\n",
       "            <td>unsorted</td>\n",
       "        </tr>\n",
       "    </tbody>\n",
       "</table>"
      ],
      "text/plain": [
       "+---------+-----------+-----------------------+\n",
       "|    size | num_files |           sorted_maps |\n",
       "+---------+-----------+-----------------------+\n",
       "| 3211080 |        10 |           sorted_maps |\n",
       "| 3551849 |        10 | sorted_playergamertag |\n",
       "| 3526641 |        10 |              unsorted |\n",
       "+---------+-----------+-----------------------+"
      ]
     },
     "execution_count": 11,
     "metadata": {},
     "output_type": "execute_result"
    }
   ],
   "source": [
    "%%sql\n",
    "    \n",
    "SELECT SUM(file_size_in_bytes) as size, COUNT(1) as num_files, 'sorted_maps' \n",
    "FROM bootcamp.sorted_table_one.files\n",
    "\n",
    "UNION ALL\n",
    "    \n",
    "SELECT SUM(file_size_in_bytes) as size, COUNT(1) as num_files, 'sorted_playergamertag' \n",
    "FROM bootcamp.sorted_table_two.files\n",
    "\n",
    "UNION ALL\n",
    "    \n",
    "SELECT SUM(file_size_in_bytes) as size, COUNT(1) as num_files, 'unsorted' \n",
    "FROM bootcamp.unsorted_table.files\n",
    "\n"
   ]
  },
  {
   "cell_type": "code",
   "execution_count": null,
   "id": "5632d22d-c934-4175-b0a3-e5e3444aefa7",
   "metadata": {},
   "outputs": [],
   "source": []
  }
 ],
 "metadata": {
  "kernelspec": {
   "display_name": "Python 3 (ipykernel)",
   "language": "python",
   "name": "python3"
  },
  "language_info": {
   "codemirror_mode": {
    "name": "ipython",
    "version": 3
   },
   "file_extension": ".py",
   "mimetype": "text/x-python",
   "name": "python",
   "nbconvert_exporter": "python",
   "pygments_lexer": "ipython3",
   "version": "3.9.18"
  }
 },
 "nbformat": 4,
 "nbformat_minor": 5
}
