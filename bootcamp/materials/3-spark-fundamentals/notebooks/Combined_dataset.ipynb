{
 "cells": [
  {
   "cell_type": "code",
   "execution_count": 4,
   "id": "07c4464e-b7b1-416b-8015-397491740a1b",
   "metadata": {},
   "outputs": [],
   "source": [
    "sc.stop()"
   ]
  },
  {
   "cell_type": "code",
   "execution_count": 5,
   "id": "7a38c5c3-a508-40e1-9a52-b7c223a1b82e",
   "metadata": {},
   "outputs": [
    {
     "data": {
      "text/plain": [
       "import org.apache.spark.sql.SparkSession\n",
       "import org.apache.spark.sql.functions.{broadcast, split, lit}\n",
       "import java.sql.Date\n",
       "spark: org.apache.spark.sql.SparkSession = org.apache.spark.sql.SparkSession@476a0d77\n",
       "res4: org.apache.spark.sql.DataFrame = [key: string, value: string]\n"
      ]
     },
     "execution_count": 5,
     "metadata": {},
     "output_type": "execute_result"
    }
   ],
   "source": [
    "import org.apache.spark.sql.SparkSession\n",
    "import org.apache.spark.sql.functions.{broadcast, split, lit}\n",
    "import java.sql.Date\n",
    "val spark = SparkSession.builder().appName(\"Jupyter\").getOrCreate()\n",
    "//explicitly set the iceberg connection due to connection lost after several minutes\n",
    "spark.sql(\"SET spark.sql.catalog.my_catalog.uri=http://192.168.56.1:8181\")"
   ]
  },
  {
   "cell_type": "code",
   "execution_count": 27,
   "id": "f0468ab3-1d29-4aea-a3f5-859f3168b2a2",
   "metadata": {},
   "outputs": [
    {
     "data": {
      "text/plain": [
       "match_detailsBucketed: org.apache.spark.sql.DataFrame = [match_id: string, player_gamertag: string ... 34 more fields]\n",
       "matchesBucketed: org.apache.spark.sql.DataFrame = [match_id: string, mapid: string ... 8 more fields]\n",
       "me_ma_plBucketed: org.apache.spark.sql.DataFrame = [match_id: string, player_gamertag: string ... 2 more fields]\n",
       "medalsBucketed: org.apache.spark.sql.DataFrame = [medal_id: bigint, sprite_uri: string ... 10 more fields]\n",
       "mapsBucketed: org.apache.spark.sql.DataFrame = [mapid: string, name: string ... 1 more field]\n",
       "matchDetailsDDL: String =\n",
       "\"\n",
       "CREATE TABLE IF NOT EXISTS bootcamp.match_details_bucketed (\n",
       "     match_id STRING,\n",
       "     player_gamertag STRING,\n",
       "     player_total_kills INTEGER,\n",
       "     player_total_deaths INTEGER\n",
       " )\n",
       " USING iceberg\n",
       " PARTITIONED BY (bucket(4, match_id));...\n"
      ]
     },
     "execution_count": 27,
     "metadata": {},
     "output_type": "execute_result"
    }
   ],
   "source": [
    "//read the csv files first\n",
    "\n",
    "val match_detailsBucketed = spark.read.option(\"header\", \"true\")\n",
    "                        .option(\"inferSchema\", \"true\")\n",
    "                        .csv(\"/home/iceberg/data/match_details.csv\")\n",
    "\n",
    "val matchesBucketed = spark.read.option(\"header\", \"true\")\n",
    "                        .option(\"inferSchema\", \"true\")\n",
    "                        .csv(\"/home/iceberg/data/matches.csv\")\n",
    "                        \n",
    "val me_ma_plBucketed = spark.read.option(\"header\", \"true\")\n",
    "                        .option(\"inferSchema\", \"true\")\n",
    "                        .csv(\"/home/iceberg/data/medals_matches_players.csv\")\n",
    "\n",
    "val medalsBucketed = spark.read.option(\"header\", \"true\")\n",
    "                        .option(\"inferSchema\", \"true\")\n",
    "                        .csv(\"/home/iceberg/data/medals.csv\")\n",
    "                        \n",
    "val mapsBucketed = spark.read.option(\"header\", \"true\")\n",
    "                        .option(\"inferSchema\", \"true\")\n",
    "                        .csv(\"/home/iceberg/data/maps.csv\")\n",
    "\n",
    "// creating tables and populates them with the csv data\n",
    "\n",
    "// matches details\n",
    "\n",
    "val matchDetailsDDL = \"\"\"\n",
    "CREATE TABLE IF NOT EXISTS bootcamp.match_details_bucketed (\n",
    "     match_id STRING,\n",
    "     player_gamertag STRING,\n",
    "     player_total_kills INTEGER,\n",
    "     player_total_deaths INTEGER\n",
    " )\n",
    " USING iceberg\n",
    " PARTITIONED BY (bucket(4, match_id));\n",
    "\"\"\"\n",
    " spark.sql(matchDetailsDDL)\n",
    "\n",
    " match_detailsBucketed.select(\n",
    "     $\"match_id\", $\"player_gamertag\", $\"player_total_kills\", $\"player_total_deaths\")\n",
    "     .write.mode(\"append\")\n",
    "   .bucketBy(4, \"match_id\").saveAsTable(\"bootcamp.match_details_bucketed\")\n",
    "\n",
    "\n",
    "// matches table\n",
    "                        \n",
    "spark.sql(\"\"\"DROP TABLE IF EXISTS bootcamp.matches_bucketed\"\"\")\n",
    "val matchesDDL = \"\"\"\n",
    "CREATE TABLE IF NOT EXISTS bootcamp.matches_bucketed (\n",
    "    match_id STRING,\n",
    "    mapid string,\n",
    "    is_team_game BOOLEAN,\n",
    "    playlist_id STRING,\n",
    "    completion_date TIMESTAMP\n",
    " )\n",
    " USING iceberg\n",
    " PARTITIONED BY (completion_date, bucket(4, match_id));\n",
    "\"\"\"\n",
    "\n",
    "spark.sql(matchesDDL)\n",
    "\n",
    "// Break large dataset into smaller chunks\n",
    "val processedData = matchesBucketed\n",
    "  .select(\"match_id\", \"mapid\", \"is_team_game\", \"playlist_id\", \"completion_date\")\n",
    "\n",
    "// Process in batches if extremely large\n",
    "val distinctDates = processedData.select(\"completion_date\").distinct().collect()\n",
    "\n",
    "distinctDates.foreach { dateRow =>\n",
    "  val specificDate = dateRow.getAs[java.sql.Timestamp](0)\n",
    "  \n",
    "  processedData\n",
    "    .filter(col(\"completion_date\") === specificDate)\n",
    "    .write\n",
    "    .mode(\"append\")\n",
    "    .partitionBy(\"completion_date\")\n",
    "    .bucketBy(4, \"match_id\")\n",
    "    .saveAsTable(\"bootcamp.matches_bucketed\")\n",
    "}\n",
    "\n",
    "\n",
    "\n",
    "//medal_maps_players table\n",
    "\n",
    "spark.sql(\"\"\"DROP TABLE IF EXISTS bootcamp.me_ma_pl_bucketed\"\"\")\n",
    "val memapldDDL = \"\"\"\n",
    "CREATE TABLE IF NOT EXISTS bootcamp.me_ma_pl_bucketed (\n",
    "    match_id STRING,\n",
    "    player_gamertag STRING,\n",
    "    medal_id bigint,\n",
    "    count integer\n",
    " )\n",
    " USING iceberg\n",
    " partitioned by (bucket(4,match_id));\n",
    "\"\"\"\n",
    "\n",
    "spark.sql(memapldDDL)\n",
    "\n",
    "me_ma_plBucketed.select(\n",
    "     $\"match_id\", $\"player_gamertag\", $\"medal_id\", $\"count\"\n",
    "     )\n",
    "     .write.mode(\"append\")\n",
    "     .bucketBy(4,\"match_id\")\n",
    "   .saveAsTable(\"bootcamp.me_ma_pl_bucketed\")\n",
    "\n",
    "\n",
    "//medals table\n",
    "\n",
    "spark.sql(\"\"\"DROP TABLE IF EXISTS bootcamp.medals_bucketed\"\"\")\n",
    "val medalsDDL = \"\"\"\n",
    "CREATE TABLE IF NOT EXISTS bootcamp.medals_bucketed (\n",
    "    medal_id STRING,\n",
    "    name STRING\n",
    " )\n",
    " USING iceberg;\n",
    "\"\"\"\n",
    "\n",
    "spark.sql(medalsDDL)\n",
    "\n",
    "medalsBucketed.select(\n",
    "     $\"medal_id\", $\"name\"\n",
    "     )\n",
    "     .write.mode(\"append\")\n",
    "   .saveAsTable(\"bootcamp.medals_bucketed\")\n",
    "\n",
    "\n",
    "//maps table\n",
    "\n",
    "spark.sql(\"\"\"DROP TABLE IF EXISTS bootcamp.maps_bucketed\"\"\")\n",
    "val mapsDDL = \"\"\"\n",
    "CREATE TABLE IF NOT EXISTS bootcamp.maps_bucketed (\n",
    "    mapid STRING,\n",
    "    name STRING\n",
    " )\n",
    " USING iceberg;\n",
    "\"\"\"\n",
    "\n",
    "spark.sql(mapsDDL)\n",
    "\n",
    "mapsBucketed.select(\n",
    "     $\"mapid\", $\"name\"\n",
    "     )\n",
    "     .write.mode(\"append\")\n",
    "   .saveAsTable(\"bootcamp.maps_bucketed\")\n",
    "\n",
    "\n",
    "\n"
   ]
  },
  {
   "cell_type": "code",
   "execution_count": 3,
   "id": "3404f7d5-78d2-41d0-9c04-454a082c0a43",
   "metadata": {},
   "outputs": [
    {
     "name": "stdout",
     "output_type": "stream",
     "text": [
      "+--------------------+-------------------+---------------+------------------+-------------------+\n",
      "|            match_id|    completion_date|player_gamertag|player_total_kills|player_total_deaths|\n",
      "+--------------------+-------------------+---------------+------------------+-------------------+\n",
      "|00169217-cca6-4b4...|2016-03-13 00:00:00|  King Terror V|                14|                  7|\n",
      "|00169217-cca6-4b4...|2016-03-13 00:00:00|      King Sope|                11|                  5|\n",
      "|00169217-cca6-4b4...|2016-03-13 00:00:00|       mcnaeric|                10|                 14|\n",
      "|00169217-cca6-4b4...|2016-03-13 00:00:00|    EXTREMENOVA|                 8|                 10|\n",
      "|00169217-cca6-4b4...|2016-03-13 00:00:00| Psych0ticCamel|                 8|                 14|\n",
      "|00169217-cca6-4b4...|2016-03-13 00:00:00|Trap Lord David|                 8|                 12|\n",
      "|00169217-cca6-4b4...|2016-03-13 00:00:00|       DJ RAHHH|                13|                 11|\n",
      "|00169217-cca6-4b4...|2016-03-13 00:00:00|  King Terror V|                14|                  7|\n",
      "|00169217-cca6-4b4...|2016-03-13 00:00:00|      King Sope|                11|                  5|\n",
      "|00169217-cca6-4b4...|2016-03-13 00:00:00|       mcnaeric|                10|                 14|\n",
      "+--------------------+-------------------+---------------+------------------+-------------------+\n",
      "\n"
     ]
    },
    {
     "data": {
      "text/plain": [
       "bucketedMatches: org.apache.spark.sql.Dataset[org.apache.spark.sql.Row] = [match_id: string, is_team_game: boolean ... 2 more fields]\n",
       "bucketedMatchDetails: org.apache.spark.sql.Dataset[org.apache.spark.sql.Row] = [match_id: string, player_gamertag: string ... 2 more fields]\n",
       "bucketedJoin: org.apache.spark.sql.DataFrame = [match_id: string, completion_date: timestamp ... 3 more fields]\n"
      ]
     },
     "execution_count": 3,
     "metadata": {},
     "output_type": "execute_result"
    }
   ],
   "source": [
    "spark.conf.set(\"spark.sql.autoBroadcastJoinThreshold\", \"-1\")\n",
    "\n",
    "val bucketedMatches = spark.table(\"bootcamp.matches_bucketed\").sort(\"match_id\")\n",
    "val bucketedMatchDetails = spark.table(\"bootcamp.match_details_bucketed\").sort(\"match_id\")\n",
    "\n",
    "val bucketedJoin = bucketedMatches.as(\"m\")\n",
    "   .join(bucketedMatchDetails.as(\"md\"), $\"m.match_id\" === $\"md.match_id\")\n",
    "   .select($\"m.match_id\", $\"m.completion_date\", $\"md.player_gamertag\", $\"md.player_total_kills\", $\"md.player_total_deaths\")\n",
    "// .take(5)\n",
    "\n",
    "bucketedJoin.createOrReplaceTempView(\"bucketed_result\")\n",
    "spark.sql(\"SELECT * FROM bucketed_result LIMIT 10\").show()"
   ]
  },
  {
   "cell_type": "code",
   "execution_count": 12,
   "id": "1b309614-335f-4655-9966-a5e5ba13d779",
   "metadata": {
    "scrolled": true
   },
   "outputs": [
    {
     "name": "stdout",
     "output_type": "stream",
     "text": [
      "+--------------------+------------+--------------------+-------------------+---------------+------------------+-------------------+----------+-------------------+-----+--------------------+--------+\n",
      "|            match_id|is_team_game|         playlist_id|    completion_date|player_gamertag|player_total_kills|player_total_deaths|  medal_id|         medal_name|count|               mapid|map_name|\n",
      "+--------------------+------------+--------------------+-------------------+---------------+------------------+-------------------+----------+-------------------+-----+--------------------+--------+\n",
      "|0001a1c4-83dc-4f4...|        true|780cc101-005c-4fc...|2016-01-06 00:00:00|    ILLICIT 117|                23|                 28|3565443938|Stronghold Captured|    4|c7805740-f206-11e...| Glacier|\n",
      "|0001a1c4-83dc-4f4...|        true|780cc101-005c-4fc...|2016-01-06 00:00:00|    ILLICIT 117|                23|                 28|3261908037|           Headshot|    8|c7805740-f206-11e...| Glacier|\n",
      "|0001a1c4-83dc-4f4...|        true|780cc101-005c-4fc...|2016-01-06 00:00:00|    ILLICIT 117|                23|                 28| 824733727|        Distraction|    1|c7805740-f206-11e...| Glacier|\n",
      "+--------------------+------------+--------------------+-------------------+---------------+------------------+-------------------+----------+-------------------+-----+--------------------+--------+\n",
      "\n"
     ]
    },
    {
     "data": {
      "text/plain": [
       "bucketedMatches: org.apache.spark.sql.Dataset[org.apache.spark.sql.Row] = [match_id: string, mapid: string ... 3 more fields]\n",
       "bucketedMatchDetails: org.apache.spark.sql.Dataset[org.apache.spark.sql.Row] = [match_id: string, player_gamertag: string ... 2 more fields]\n",
       "bucketedMedalMatchPlayers: org.apache.spark.sql.Dataset[org.apache.spark.sql.Row] = [match_id: string, player_gamertag: string ... 2 more fields]\n",
       "bucketedMedals: org.apache.spark.sql.DataFrame = [medal_id: string, name: string]\n",
       "bucketedMaps: org.apache.spark.sql.DataFrame = [mapid: string, name: string]\n",
       "bucketedJoin: org.apache.spark.sql.DataFrame = [match_id: string, is_team_game: boolean ... 10 more fields]\n"
      ]
     },
     "execution_count": 12,
     "metadata": {},
     "output_type": "execute_result"
    }
   ],
   "source": [
    "spark.conf.set(\"spark.sql.autoBroadcastJoinThreshold\", \"-1\")\n",
    "\n",
    "val bucketedMatches = spark.table(\"bootcamp.matches_bucketed\").sort(\"match_id\")\n",
    "val bucketedMatchDetails = spark.table(\"bootcamp.match_details_bucketed\").sort(\"match_id\")\n",
    "val bucketedMedalMatchPlayers = spark.table(\"bootcamp.me_ma_pl_bucketed\").sort(\"match_id\")\n",
    "val bucketedMedals = spark.table(\"bootcamp.medals_bucketed\")\n",
    "val bucketedMaps = spark.table(\"bootcamp.maps_bucketed\")\n",
    "\n",
    "val bucketedJoin = bucketedMatches.as(\"m\")\n",
    "   .join(bucketedMatchDetails.as(\"md\"), $\"m.match_id\" === $\"md.match_id\")\n",
    "   .join(bucketedMedalMatchPlayers.as(\"mmp\"), $\"md.match_id\" === $\"mmp.match_id\" && $\"md.player_gamertag\" === $\"mmp.player_gamertag\")\n",
    "   .join(broadcast(bucketedMedals).as(\"me\"), $\"mmp.medal_id\" === $\"me.medal_id\")\n",
    "   .join(broadcast(bucketedMaps).as(\"mp\"), $\"m.mapid\" === $\"mp.mapid\")\n",
    "   .select($\"m.match_id\", $\"m.is_team_game\", $\"m.playlist_id\", $\"completion_date\", \n",
    "       $\"md.player_gamertag\", $\"md.player_total_kills\",  $\"md.player_total_deaths\",\n",
    "        $\"mmp.medal_id\", $\"me.name\".as (\"medal_name\"), $\"mmp.count\",\n",
    "        $\"mp.mapid\", $\"mp.name\".as (\"map_name\"))\n",
    "//       .explain()\n",
    "\n",
    "bucketedJoin.createOrReplaceTempView(\"bucketed_result\")\n",
    "spark.sql(\"SELECT * FROM bucketed_result LIMIT 3\").show()"
   ]
  },
  {
   "cell_type": "code",
   "execution_count": 30,
   "id": "240b416a-a119-4b8a-a6c0-01199ab20576",
   "metadata": {},
   "outputs": [
    {
     "name": "stdout",
     "output_type": "stream",
     "text": [
      "+--------------------+--------------+----------+\n",
      "|               mapid|      map_name|sum(count)|\n",
      "+--------------------+--------------+----------+\n",
      "|c7edbf0f-f206-11e...|Breakout Arena|     26952|\n",
      "|c74c9d0f-f206-11e...|        Alpine|     21436|\n",
      "|c7805740-f206-11e...|       Glacier|     13608|\n",
      "|cdb934b0-f206-11e...|        Empire|      8932|\n",
      "|ce1dc2de-f206-11e...|         Truth|      8244|\n",
      "|cb914b9e-f206-11e...|       The Rig|      8012|\n",
      "|caacb800-f206-11e...|         Plaza|      7648|\n",
      "|cebd854f-f206-11e...|      Coliseum|      7640|\n",
      "|cd844200-f206-11e...|          Eden|      7076|\n",
      "|cdee4e70-f206-11e...|        Regret|      7044|\n",
      "|cc040aa1-f206-11e...|        Fathom|      6632|\n",
      "|ca737f8f-f206-11e...|    Overgrowth|      4196|\n",
      "|cbcea2c0-f206-11e...|      Riptide |      3660|\n",
      "|cc74f4e1-f206-11e...|          NULL|      3572|\n",
      "|c7b7baf0-f206-11e...|      Parallax|      2900|\n",
      "|ce89a40f-f206-11e...|          NULL|      1420|\n",
      "+--------------------+--------------+----------+\n",
      "\n"
     ]
    }
   ],
   "source": [
    "spark.sql(\"SELECT mapid, map_name, sum(count) FROM bucketed_result where medal_name = 'Killing Spree' group by mapid, map_name order by 3 desc\").show()"
   ]
  },
  {
   "cell_type": "code",
   "execution_count": 27,
   "id": "e5695e41-49c5-4ec1-8511-a37173c71bcd",
   "metadata": {},
   "outputs": [
    {
     "name": "stdout",
     "output_type": "stream",
     "text": [
      "+--------------+-----------+\n",
      "|      map_name|total_games|\n",
      "+--------------+-----------+\n",
      "|Breakout Arena|       6738|\n",
      "|        Alpine|       5359|\n",
      "|       Glacier|       3402|\n",
      "|        Empire|       2233|\n",
      "|         Truth|       2061|\n",
      "|       The Rig|       2003|\n",
      "|         Plaza|       1912|\n",
      "|      Coliseum|       1910|\n",
      "|          Eden|       1769|\n",
      "|        Regret|       1761|\n",
      "|        Fathom|       1658|\n",
      "|          NULL|       1248|\n",
      "|    Overgrowth|       1049|\n",
      "|      Riptide |        915|\n",
      "|      Parallax|        725|\n",
      "+--------------+-----------+\n",
      "\n"
     ]
    },
    {
     "data": {
      "text/plain": [
       "mapKSCount: org.apache.spark.sql.Dataset[org.apache.spark.sql.Row] = [map_name: string, total_games: bigint]\n"
      ]
     },
     "execution_count": 27,
     "metadata": {},
     "output_type": "execute_result"
    }
   ],
   "source": [
    "// Which player averages the most kills per game?\n",
    "//val avgKillPerGame = bucketedJoin.distinct()\n",
    "//     .groupBy($\"player_gamertag\")\n",
    "//      .agg(avg($\"player_total_kills\").as(\"avg_kills_per_match\"))\n",
    "//      .orderBy(avg($\"player_total_kills\").desc)\n",
    "\n",
    "//Which playlist gets played the most?\n",
    "//val playlistCount = bucketedJoin.groupBy($\"playlist_id\")\n",
    "//  .agg(countDistinct($\"match_id\").as(\"total_games_played\"))\n",
    "//  .orderBy(countDistinct($\"match_id\").desc)\n",
    "\n",
    "//Which map gets played the most?\n",
    "//val mapCount = bucketedJoin.filter($\"map_name\".isNotNull)\n",
    "//    .groupBy($\"map_name\")  \n",
    "//    .agg(countDistinct($\"match_id\").as(\"total_games\"))\n",
    "//  .orderBy($\"total_games\".desc)\n",
    "\n",
    "//Which map do players get the most Killing Spree medals on?\n",
    "//val mapKSCount = bucketedJoin.distinct()\n",
    "//        .filter($\"medal_name\"=== \"Killing Spree\")\n",
    "//        .groupBy($\"map_name\")\n",
    "//        .agg(sum($\"count\").as(\"total_games\"))\n",
    "//      .orderBy($\"total_games\".desc)\n",
    "\n",
    "\n",
    "mapKSCount.show()\n"
   ]
  },
  {
   "cell_type": "code",
   "execution_count": null,
   "id": "13331d87-88b3-46d2-8b0c-ec2cd0db2eb6",
   "metadata": {},
   "outputs": [],
   "source": []
  },
  {
   "cell_type": "code",
   "execution_count": 8,
   "id": "a6a4cd0a-562d-4c13-a3cc-5f87cd4c3928",
   "metadata": {
    "scrolled": true
   },
   "outputs": [
    {
     "name": "stdout",
     "output_type": "stream",
     "text": [
      "+---------------+--------+\n",
      "|player_gamertag|avg_kill|\n",
      "+---------------+--------+\n",
      "|  A 29 Delivery|    11.0|\n",
      "|  A 29 Delivery|    11.0|\n",
      "|  A 29 Delivery|    11.0|\n",
      "|    A BOOTY TAP|     2.0|\n",
      "|    A BOOTY TAP|     2.0|\n",
      "|    A BOOTY TAP|     2.0|\n",
      "|    A Baby Lynx|    12.0|\n",
      "|    A Baby Lynx|    12.0|\n",
      "|    A Baby Lynx|    12.0|\n",
      "| A Blind Kid 8P|    29.0|\n",
      "+---------------+--------+\n",
      "\n"
     ]
    }
   ],
   "source": [
    "spark.sql(\"SELECT player_gamertag, avg(player_total_kills) over (partition by player_gamertag) as avg_kill FROM bucketed_result LIMIT 10\").show()"
   ]
  }
 ],
 "metadata": {
  "kernelspec": {
   "display_name": "spylon-kernel",
   "language": "scala",
   "name": "spylon-kernel"
  },
  "language_info": {
   "codemirror_mode": "text/x-scala",
   "file_extension": ".scala",
   "help_links": [
    {
     "text": "MetaKernel Magics",
     "url": "https://metakernel.readthedocs.io/en/latest/source/README.html"
    }
   ],
   "mimetype": "text/x-scala",
   "name": "scala",
   "pygments_lexer": "scala",
   "version": "0.4.1"
  }
 },
 "nbformat": 4,
 "nbformat_minor": 5
}
